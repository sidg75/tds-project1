{
  "cells": [
    {
      "cell_type": "markdown",
      "metadata": {
        "id": "view-in-github",
        "colab_type": "text"
      },
      "source": [
        "<a href=\"https://colab.research.google.com/github/sidg75/tds-project1/blob/main/TDSProject1Assignment.ipynb\" target=\"_parent\"><img src=\"https://colab.research.google.com/assets/colab-badge.svg\" alt=\"Open In Colab\"/></a>"
      ]
    },
    {
      "cell_type": "code",
      "execution_count": 19,
      "id": "17871c8c-d5b7-4881-8fb2-c3f084deec73",
      "metadata": {
        "id": "17871c8c-d5b7-4881-8fb2-c3f084deec73"
      },
      "outputs": [],
      "source": [
        "import pandas as pd\n",
        "import numpy as np\n",
        "import matplotlib.pyplot as plt"
      ]
    },
    {
      "cell_type": "markdown",
      "id": "7108a27f-97e8-4871-ae8d-c4c53a47dfe9",
      "metadata": {
        "id": "7108a27f-97e8-4871-ae8d-c4c53a47dfe9"
      },
      "source": [
        "#### Q1.  Who are the top 5 users in Sydney with the highest number of followers? List their login in order, comma-separated"
      ]
    },
    {
      "cell_type": "code",
      "execution_count": 96,
      "id": "4259def7-3934-411b-b441-64d7d24bd92c",
      "metadata": {
        "colab": {
          "base_uri": "https://localhost:8080/",
          "height": 764
        },
        "id": "4259def7-3934-411b-b441-64d7d24bd92c",
        "outputId": "aefc8e19-fde5-4773-f5c3-14c670cef38c"
      },
      "outputs": [
        {
          "output_type": "stream",
          "name": "stdout",
          "text": [
            "<class 'pandas.core.frame.DataFrame'>\n",
            "RangeIndex: 371 entries, 0 to 370\n",
            "Data columns (total 11 columns):\n",
            " #   Column        Non-Null Count  Dtype \n",
            "---  ------        --------------  ----- \n",
            " 0   login         371 non-null    object\n",
            " 1   name          366 non-null    object\n",
            " 2   company       208 non-null    object\n",
            " 3   location      371 non-null    object\n",
            " 4   email         185 non-null    object\n",
            " 5   hireable      371 non-null    bool  \n",
            " 6   bio           250 non-null    object\n",
            " 7   public_repos  371 non-null    int64 \n",
            " 8   followers     371 non-null    int64 \n",
            " 9   following     371 non-null    int64 \n",
            " 10  created_at    371 non-null    object\n",
            "dtypes: bool(1), int64(3), object(7)\n",
            "memory usage: 29.5+ KB\n"
          ]
        },
        {
          "output_type": "execute_result",
          "data": {
            "text/plain": [
              "           login              name                  company  \\\n",
              "0   nicknochnack  Nicholas Renotte                      NaN   \n",
              "1   brendangregg     Brendan Gregg                    INTEL   \n",
              "2  cornflourblue     Jason Watmore  POINT BLANK DEVELOPMENT   \n",
              "3            0vm                Ak                      NaN   \n",
              "4     davecheney       Dave Cheney                   GITHUB   \n",
              "\n",
              "            location email  hireable  \\\n",
              "0  Sydney, Australia   NaN     False   \n",
              "1  Sydney, Australia   NaN     False   \n",
              "2   Sydney Australia   NaN     False   \n",
              "3  Sydney, Australia   NaN      True   \n",
              "4  Sydney, Australia   NaN     False   \n",
              "\n",
              "                                                 bio  public_repos  followers  \\\n",
              "0                              Data Science guy @IBM           192      11654   \n",
              "1              Cloud computing performance engineer.            42       8015   \n",
              "2  Web Developer and Blogger, currently focusing ...           187       6699   \n",
              "3                                            erm hai            10       6571   \n",
              "4                      I service society by rocking.           163       6554   \n",
              "\n",
              "   following            created_at  \n",
              "0          5  2013-11-15T15:06:35Z  \n",
              "1          0  2011-10-04T08:48:56Z  \n",
              "2          0  2011-05-13T04:38:16Z  \n",
              "3          3  2021-03-02T06:55:10Z  \n",
              "4         42  2008-04-14T04:00:20Z  "
            ],
            "text/html": [
              "\n",
              "  <div id=\"df-74b9537c-65f4-49b4-b213-e3cc5a8fcc62\" class=\"colab-df-container\">\n",
              "    <div>\n",
              "<style scoped>\n",
              "    .dataframe tbody tr th:only-of-type {\n",
              "        vertical-align: middle;\n",
              "    }\n",
              "\n",
              "    .dataframe tbody tr th {\n",
              "        vertical-align: top;\n",
              "    }\n",
              "\n",
              "    .dataframe thead th {\n",
              "        text-align: right;\n",
              "    }\n",
              "</style>\n",
              "<table border=\"1\" class=\"dataframe\">\n",
              "  <thead>\n",
              "    <tr style=\"text-align: right;\">\n",
              "      <th></th>\n",
              "      <th>login</th>\n",
              "      <th>name</th>\n",
              "      <th>company</th>\n",
              "      <th>location</th>\n",
              "      <th>email</th>\n",
              "      <th>hireable</th>\n",
              "      <th>bio</th>\n",
              "      <th>public_repos</th>\n",
              "      <th>followers</th>\n",
              "      <th>following</th>\n",
              "      <th>created_at</th>\n",
              "    </tr>\n",
              "  </thead>\n",
              "  <tbody>\n",
              "    <tr>\n",
              "      <th>0</th>\n",
              "      <td>nicknochnack</td>\n",
              "      <td>Nicholas Renotte</td>\n",
              "      <td>NaN</td>\n",
              "      <td>Sydney, Australia</td>\n",
              "      <td>NaN</td>\n",
              "      <td>False</td>\n",
              "      <td>Data Science guy @IBM</td>\n",
              "      <td>192</td>\n",
              "      <td>11654</td>\n",
              "      <td>5</td>\n",
              "      <td>2013-11-15T15:06:35Z</td>\n",
              "    </tr>\n",
              "    <tr>\n",
              "      <th>1</th>\n",
              "      <td>brendangregg</td>\n",
              "      <td>Brendan Gregg</td>\n",
              "      <td>INTEL</td>\n",
              "      <td>Sydney, Australia</td>\n",
              "      <td>NaN</td>\n",
              "      <td>False</td>\n",
              "      <td>Cloud computing performance engineer.</td>\n",
              "      <td>42</td>\n",
              "      <td>8015</td>\n",
              "      <td>0</td>\n",
              "      <td>2011-10-04T08:48:56Z</td>\n",
              "    </tr>\n",
              "    <tr>\n",
              "      <th>2</th>\n",
              "      <td>cornflourblue</td>\n",
              "      <td>Jason Watmore</td>\n",
              "      <td>POINT BLANK DEVELOPMENT</td>\n",
              "      <td>Sydney Australia</td>\n",
              "      <td>NaN</td>\n",
              "      <td>False</td>\n",
              "      <td>Web Developer and Blogger, currently focusing ...</td>\n",
              "      <td>187</td>\n",
              "      <td>6699</td>\n",
              "      <td>0</td>\n",
              "      <td>2011-05-13T04:38:16Z</td>\n",
              "    </tr>\n",
              "    <tr>\n",
              "      <th>3</th>\n",
              "      <td>0vm</td>\n",
              "      <td>Ak</td>\n",
              "      <td>NaN</td>\n",
              "      <td>Sydney, Australia</td>\n",
              "      <td>NaN</td>\n",
              "      <td>True</td>\n",
              "      <td>erm hai</td>\n",
              "      <td>10</td>\n",
              "      <td>6571</td>\n",
              "      <td>3</td>\n",
              "      <td>2021-03-02T06:55:10Z</td>\n",
              "    </tr>\n",
              "    <tr>\n",
              "      <th>4</th>\n",
              "      <td>davecheney</td>\n",
              "      <td>Dave Cheney</td>\n",
              "      <td>GITHUB</td>\n",
              "      <td>Sydney, Australia</td>\n",
              "      <td>NaN</td>\n",
              "      <td>False</td>\n",
              "      <td>I service society by rocking.</td>\n",
              "      <td>163</td>\n",
              "      <td>6554</td>\n",
              "      <td>42</td>\n",
              "      <td>2008-04-14T04:00:20Z</td>\n",
              "    </tr>\n",
              "  </tbody>\n",
              "</table>\n",
              "</div>\n",
              "    <div class=\"colab-df-buttons\">\n",
              "\n",
              "  <div class=\"colab-df-container\">\n",
              "    <button class=\"colab-df-convert\" onclick=\"convertToInteractive('df-74b9537c-65f4-49b4-b213-e3cc5a8fcc62')\"\n",
              "            title=\"Convert this dataframe to an interactive table.\"\n",
              "            style=\"display:none;\">\n",
              "\n",
              "  <svg xmlns=\"http://www.w3.org/2000/svg\" height=\"24px\" viewBox=\"0 -960 960 960\">\n",
              "    <path d=\"M120-120v-720h720v720H120Zm60-500h600v-160H180v160Zm220 220h160v-160H400v160Zm0 220h160v-160H400v160ZM180-400h160v-160H180v160Zm440 0h160v-160H620v160ZM180-180h160v-160H180v160Zm440 0h160v-160H620v160Z\"/>\n",
              "  </svg>\n",
              "    </button>\n",
              "\n",
              "  <style>\n",
              "    .colab-df-container {\n",
              "      display:flex;\n",
              "      gap: 12px;\n",
              "    }\n",
              "\n",
              "    .colab-df-convert {\n",
              "      background-color: #E8F0FE;\n",
              "      border: none;\n",
              "      border-radius: 50%;\n",
              "      cursor: pointer;\n",
              "      display: none;\n",
              "      fill: #1967D2;\n",
              "      height: 32px;\n",
              "      padding: 0 0 0 0;\n",
              "      width: 32px;\n",
              "    }\n",
              "\n",
              "    .colab-df-convert:hover {\n",
              "      background-color: #E2EBFA;\n",
              "      box-shadow: 0px 1px 2px rgba(60, 64, 67, 0.3), 0px 1px 3px 1px rgba(60, 64, 67, 0.15);\n",
              "      fill: #174EA6;\n",
              "    }\n",
              "\n",
              "    .colab-df-buttons div {\n",
              "      margin-bottom: 4px;\n",
              "    }\n",
              "\n",
              "    [theme=dark] .colab-df-convert {\n",
              "      background-color: #3B4455;\n",
              "      fill: #D2E3FC;\n",
              "    }\n",
              "\n",
              "    [theme=dark] .colab-df-convert:hover {\n",
              "      background-color: #434B5C;\n",
              "      box-shadow: 0px 1px 3px 1px rgba(0, 0, 0, 0.15);\n",
              "      filter: drop-shadow(0px 1px 2px rgba(0, 0, 0, 0.3));\n",
              "      fill: #FFFFFF;\n",
              "    }\n",
              "  </style>\n",
              "\n",
              "    <script>\n",
              "      const buttonEl =\n",
              "        document.querySelector('#df-74b9537c-65f4-49b4-b213-e3cc5a8fcc62 button.colab-df-convert');\n",
              "      buttonEl.style.display =\n",
              "        google.colab.kernel.accessAllowed ? 'block' : 'none';\n",
              "\n",
              "      async function convertToInteractive(key) {\n",
              "        const element = document.querySelector('#df-74b9537c-65f4-49b4-b213-e3cc5a8fcc62');\n",
              "        const dataTable =\n",
              "          await google.colab.kernel.invokeFunction('convertToInteractive',\n",
              "                                                    [key], {});\n",
              "        if (!dataTable) return;\n",
              "\n",
              "        const docLinkHtml = 'Like what you see? Visit the ' +\n",
              "          '<a target=\"_blank\" href=https://colab.research.google.com/notebooks/data_table.ipynb>data table notebook</a>'\n",
              "          + ' to learn more about interactive tables.';\n",
              "        element.innerHTML = '';\n",
              "        dataTable['output_type'] = 'display_data';\n",
              "        await google.colab.output.renderOutput(dataTable, element);\n",
              "        const docLink = document.createElement('div');\n",
              "        docLink.innerHTML = docLinkHtml;\n",
              "        element.appendChild(docLink);\n",
              "      }\n",
              "    </script>\n",
              "  </div>\n",
              "\n",
              "\n",
              "<div id=\"df-6d9a0abd-473e-4b5a-8ee6-20e3be0cb37e\">\n",
              "  <button class=\"colab-df-quickchart\" onclick=\"quickchart('df-6d9a0abd-473e-4b5a-8ee6-20e3be0cb37e')\"\n",
              "            title=\"Suggest charts\"\n",
              "            style=\"display:none;\">\n",
              "\n",
              "<svg xmlns=\"http://www.w3.org/2000/svg\" height=\"24px\"viewBox=\"0 0 24 24\"\n",
              "     width=\"24px\">\n",
              "    <g>\n",
              "        <path d=\"M19 3H5c-1.1 0-2 .9-2 2v14c0 1.1.9 2 2 2h14c1.1 0 2-.9 2-2V5c0-1.1-.9-2-2-2zM9 17H7v-7h2v7zm4 0h-2V7h2v10zm4 0h-2v-4h2v4z\"/>\n",
              "    </g>\n",
              "</svg>\n",
              "  </button>\n",
              "\n",
              "<style>\n",
              "  .colab-df-quickchart {\n",
              "      --bg-color: #E8F0FE;\n",
              "      --fill-color: #1967D2;\n",
              "      --hover-bg-color: #E2EBFA;\n",
              "      --hover-fill-color: #174EA6;\n",
              "      --disabled-fill-color: #AAA;\n",
              "      --disabled-bg-color: #DDD;\n",
              "  }\n",
              "\n",
              "  [theme=dark] .colab-df-quickchart {\n",
              "      --bg-color: #3B4455;\n",
              "      --fill-color: #D2E3FC;\n",
              "      --hover-bg-color: #434B5C;\n",
              "      --hover-fill-color: #FFFFFF;\n",
              "      --disabled-bg-color: #3B4455;\n",
              "      --disabled-fill-color: #666;\n",
              "  }\n",
              "\n",
              "  .colab-df-quickchart {\n",
              "    background-color: var(--bg-color);\n",
              "    border: none;\n",
              "    border-radius: 50%;\n",
              "    cursor: pointer;\n",
              "    display: none;\n",
              "    fill: var(--fill-color);\n",
              "    height: 32px;\n",
              "    padding: 0;\n",
              "    width: 32px;\n",
              "  }\n",
              "\n",
              "  .colab-df-quickchart:hover {\n",
              "    background-color: var(--hover-bg-color);\n",
              "    box-shadow: 0 1px 2px rgba(60, 64, 67, 0.3), 0 1px 3px 1px rgba(60, 64, 67, 0.15);\n",
              "    fill: var(--button-hover-fill-color);\n",
              "  }\n",
              "\n",
              "  .colab-df-quickchart-complete:disabled,\n",
              "  .colab-df-quickchart-complete:disabled:hover {\n",
              "    background-color: var(--disabled-bg-color);\n",
              "    fill: var(--disabled-fill-color);\n",
              "    box-shadow: none;\n",
              "  }\n",
              "\n",
              "  .colab-df-spinner {\n",
              "    border: 2px solid var(--fill-color);\n",
              "    border-color: transparent;\n",
              "    border-bottom-color: var(--fill-color);\n",
              "    animation:\n",
              "      spin 1s steps(1) infinite;\n",
              "  }\n",
              "\n",
              "  @keyframes spin {\n",
              "    0% {\n",
              "      border-color: transparent;\n",
              "      border-bottom-color: var(--fill-color);\n",
              "      border-left-color: var(--fill-color);\n",
              "    }\n",
              "    20% {\n",
              "      border-color: transparent;\n",
              "      border-left-color: var(--fill-color);\n",
              "      border-top-color: var(--fill-color);\n",
              "    }\n",
              "    30% {\n",
              "      border-color: transparent;\n",
              "      border-left-color: var(--fill-color);\n",
              "      border-top-color: var(--fill-color);\n",
              "      border-right-color: var(--fill-color);\n",
              "    }\n",
              "    40% {\n",
              "      border-color: transparent;\n",
              "      border-right-color: var(--fill-color);\n",
              "      border-top-color: var(--fill-color);\n",
              "    }\n",
              "    60% {\n",
              "      border-color: transparent;\n",
              "      border-right-color: var(--fill-color);\n",
              "    }\n",
              "    80% {\n",
              "      border-color: transparent;\n",
              "      border-right-color: var(--fill-color);\n",
              "      border-bottom-color: var(--fill-color);\n",
              "    }\n",
              "    90% {\n",
              "      border-color: transparent;\n",
              "      border-bottom-color: var(--fill-color);\n",
              "    }\n",
              "  }\n",
              "</style>\n",
              "\n",
              "  <script>\n",
              "    async function quickchart(key) {\n",
              "      const quickchartButtonEl =\n",
              "        document.querySelector('#' + key + ' button');\n",
              "      quickchartButtonEl.disabled = true;  // To prevent multiple clicks.\n",
              "      quickchartButtonEl.classList.add('colab-df-spinner');\n",
              "      try {\n",
              "        const charts = await google.colab.kernel.invokeFunction(\n",
              "            'suggestCharts', [key], {});\n",
              "      } catch (error) {\n",
              "        console.error('Error during call to suggestCharts:', error);\n",
              "      }\n",
              "      quickchartButtonEl.classList.remove('colab-df-spinner');\n",
              "      quickchartButtonEl.classList.add('colab-df-quickchart-complete');\n",
              "    }\n",
              "    (() => {\n",
              "      let quickchartButtonEl =\n",
              "        document.querySelector('#df-6d9a0abd-473e-4b5a-8ee6-20e3be0cb37e button');\n",
              "      quickchartButtonEl.style.display =\n",
              "        google.colab.kernel.accessAllowed ? 'block' : 'none';\n",
              "    })();\n",
              "  </script>\n",
              "</div>\n",
              "\n",
              "    </div>\n",
              "  </div>\n"
            ],
            "application/vnd.google.colaboratory.intrinsic+json": {
              "type": "dataframe",
              "variable_name": "users",
              "summary": "{\n  \"name\": \"users\",\n  \"rows\": 371,\n  \"fields\": [\n    {\n      \"column\": \"login\",\n      \"properties\": {\n        \"dtype\": \"string\",\n        \"num_unique_values\": 371,\n        \"samples\": [\n          \"chrisosaurus\",\n          \"matthewpalmer\",\n          \"MaryamAustralia\"\n        ],\n        \"semantic_type\": \"\",\n        \"description\": \"\"\n      }\n    },\n    {\n      \"column\": \"name\",\n      \"properties\": {\n        \"dtype\": \"string\",\n        \"num_unique_values\": 365,\n        \"samples\": [\n          \"Brendan Murty\",\n          \"Matthew Palmer\",\n          \"Maryam\"\n        ],\n        \"semantic_type\": \"\",\n        \"description\": \"\"\n      }\n    },\n    {\n      \"column\": \"company\",\n      \"properties\": {\n        \"dtype\": \"category\",\n        \"num_unique_values\": 148,\n        \"samples\": [\n          \"UNSW-EDU-AU\",\n          \"CYBERCX\",\n          \"FACTOR64\"\n        ],\n        \"semantic_type\": \"\",\n        \"description\": \"\"\n      }\n    },\n    {\n      \"column\": \"location\",\n      \"properties\": {\n        \"dtype\": \"category\",\n        \"num_unique_values\": 32,\n        \"samples\": [\n          \"UTS, Sydney\",\n          \"SF, Austin, Sydney, Kyiv\",\n          \"Sydney, San Francisco, Austin, and more!\"\n        ],\n        \"semantic_type\": \"\",\n        \"description\": \"\"\n      }\n    },\n    {\n      \"column\": \"email\",\n      \"properties\": {\n        \"dtype\": \"category\",\n        \"num_unique_values\": 185,\n        \"samples\": [\n          \"bokky.poobah@bokconsulting.com.au\",\n          \"rayx.cn@gmail.com\",\n          \"aaronjjacobs@gmail.com\"\n        ],\n        \"semantic_type\": \"\",\n        \"description\": \"\"\n      }\n    },\n    {\n      \"column\": \"hireable\",\n      \"properties\": {\n        \"dtype\": \"boolean\",\n        \"num_unique_values\": 2,\n        \"samples\": [\n          true,\n          false\n        ],\n        \"semantic_type\": \"\",\n        \"description\": \"\"\n      }\n    },\n    {\n      \"column\": \"bio\",\n      \"properties\": {\n        \"dtype\": \"string\",\n        \"num_unique_values\": 248,\n        \"samples\": [\n          \"Senior Software Engineer | Agile Follower | Speaker | Google Developer Expert | Docker Captain\",\n          \"Software Developer and Open Source Enthusiast at @atlassian / ex-@adessoAG \"\n        ],\n        \"semantic_type\": \"\",\n        \"description\": \"\"\n      }\n    },\n    {\n      \"column\": \"public_repos\",\n      \"properties\": {\n        \"dtype\": \"number\",\n        \"std\": 522,\n        \"min\": 0,\n        \"max\": 8997,\n        \"num_unique_values\": 171,\n        \"samples\": [\n          3,\n          178\n        ],\n        \"semantic_type\": \"\",\n        \"description\": \"\"\n      }\n    },\n    {\n      \"column\": \"followers\",\n      \"properties\": {\n        \"dtype\": \"number\",\n        \"std\": 1009,\n        \"min\": 101,\n        \"max\": 11654,\n        \"num_unique_values\": 235,\n        \"samples\": [\n          429,\n          132\n        ],\n        \"semantic_type\": \"\",\n        \"description\": \"\"\n      }\n    },\n    {\n      \"column\": \"following\",\n      \"properties\": {\n        \"dtype\": \"number\",\n        \"std\": 498,\n        \"min\": 0,\n        \"max\": 7860,\n        \"num_unique_values\": 139,\n        \"samples\": [\n          80,\n          30\n        ],\n        \"semantic_type\": \"\",\n        \"description\": \"\"\n      }\n    },\n    {\n      \"column\": \"created_at\",\n      \"properties\": {\n        \"dtype\": \"object\",\n        \"num_unique_values\": 371,\n        \"samples\": [\n          \"2009-04-19T21:24:59Z\",\n          \"2012-07-03T10:05:08Z\"\n        ],\n        \"semantic_type\": \"\",\n        \"description\": \"\"\n      }\n    }\n  ]\n}"
            }
          },
          "metadata": {},
          "execution_count": 96
        }
      ],
      "source": [
        "users = pd.read_csv('users.csv')\n",
        "users.info()\n",
        "users.shape\n",
        "users.head(5)"
      ]
    },
    {
      "cell_type": "code",
      "execution_count": 21,
      "id": "f37b7348-3978-4355-948f-8b87845756c0",
      "metadata": {
        "id": "f37b7348-3978-4355-948f-8b87845756c0"
      },
      "outputs": [],
      "source": [
        "users['hireable'] = users['hireable'].fillna(False).astype(bool)\n",
        "# users['hireable'] = users['hireable'].replace(True, 'true')"
      ]
    },
    {
      "cell_type": "code",
      "execution_count": 22,
      "id": "a14993f9-48d3-4956-9cca-d4349c30f649",
      "metadata": {
        "colab": {
          "base_uri": "https://localhost:8080/"
        },
        "id": "a14993f9-48d3-4956-9cca-d4349c30f649",
        "outputId": "83ecdb65-2fea-42ed-b411-6198c04ce0e7"
      },
      "outputs": [
        {
          "output_type": "stream",
          "name": "stdout",
          "text": [
            "nicknochnack,brendangregg,cornflourblue,0vm,davecheney\n"
          ]
        }
      ],
      "source": [
        "top5 = users.sort_values(by='followers', ascending=False).head()\n",
        "print(','.join(top5['login'].tolist()))"
      ]
    },
    {
      "cell_type": "markdown",
      "id": "6cc86ddb-88c3-453c-bf56-29614358b62e",
      "metadata": {
        "id": "6cc86ddb-88c3-453c-bf56-29614358b62e"
      },
      "source": [
        "#### Q2. Who are the 5 earliest registered GitHub users in Sydney? List their login in ascending order of created_at, comma-separated."
      ]
    },
    {
      "cell_type": "code",
      "execution_count": 23,
      "id": "afe79990-ccd3-4c8d-b184-45de1f19097c",
      "metadata": {
        "id": "afe79990-ccd3-4c8d-b184-45de1f19097c"
      },
      "outputs": [],
      "source": [
        "users['created_at'] = pd.to_datetime(users['created_at'])"
      ]
    },
    {
      "cell_type": "code",
      "execution_count": 24,
      "id": "f9645405-1745-4f06-9ba8-681b5c1e51b0",
      "metadata": {
        "colab": {
          "base_uri": "https://localhost:8080/"
        },
        "id": "f9645405-1745-4f06-9ba8-681b5c1e51b0",
        "outputId": "176ca602-0557-48a8-8e37-83d5a584a12f"
      },
      "outputs": [
        {
          "output_type": "stream",
          "name": "stdout",
          "text": [
            "dylanegan,cjheath,freshtonic,dhowden,mikel\n"
          ]
        }
      ],
      "source": [
        "top_earliest = users.sort_values(by='created_at').head()\n",
        "print(','.join(top_earliest['login'].tolist()))"
      ]
    },
    {
      "cell_type": "markdown",
      "id": "1675cbcf-6a8b-4af8-b24a-1372f68efd6b",
      "metadata": {
        "id": "1675cbcf-6a8b-4af8-b24a-1372f68efd6b"
      },
      "source": [
        "#### Q3. What are the 3 most popular license among these users? Ignore missing licenses. List the license_name in order, comma-separated."
      ]
    },
    {
      "cell_type": "code",
      "execution_count": 25,
      "id": "a139a9a8-9ded-4175-b023-fe871850f3a4",
      "metadata": {
        "colab": {
          "base_uri": "https://localhost:8080/",
          "height": 313
        },
        "id": "a139a9a8-9ded-4175-b023-fe871850f3a4",
        "outputId": "f89b39e1-898e-439c-d2e2-586720b39789"
      },
      "outputs": [
        {
          "output_type": "execute_result",
          "data": {
            "text/plain": [
              "          login                                    full_name  \\\n",
              "0  nicknochnack  nicknochnack/ActionDetectionforSignLanguage   \n",
              "1  nicknochnack   nicknochnack/AdvancedHandPoseWithMediaPipe   \n",
              "2  nicknochnack                  nicknochnack/ANPRwithPython   \n",
              "3  nicknochnack                   nicknochnack/AutoStreamlit   \n",
              "4  nicknochnack                        nicknochnack/beeagent   \n",
              "\n",
              "             created_at  stargazers_count  watchers_count          language  \\\n",
              "0  2021-06-16T09:12:01Z               406             406  Jupyter Notebook   \n",
              "1  2021-04-25T00:13:57Z                37              37  Jupyter Notebook   \n",
              "2  2020-12-13T04:39:49Z               106             106  Jupyter Notebook   \n",
              "3  2022-10-25T21:25:41Z                72              72  Jupyter Notebook   \n",
              "4  2024-09-19T08:05:08Z                 8               8        TypeScript   \n",
              "\n",
              "   has_projects  has_wiki license_name  \n",
              "0          True      True          NaN  \n",
              "1          True      True          NaN  \n",
              "2          True      True          NaN  \n",
              "3          True      True          NaN  \n",
              "4          True      True          NaN  "
            ],
            "text/html": [
              "\n",
              "  <div id=\"df-364e4b10-8538-4cd3-be4a-a78af9f984ae\" class=\"colab-df-container\">\n",
              "    <div>\n",
              "<style scoped>\n",
              "    .dataframe tbody tr th:only-of-type {\n",
              "        vertical-align: middle;\n",
              "    }\n",
              "\n",
              "    .dataframe tbody tr th {\n",
              "        vertical-align: top;\n",
              "    }\n",
              "\n",
              "    .dataframe thead th {\n",
              "        text-align: right;\n",
              "    }\n",
              "</style>\n",
              "<table border=\"1\" class=\"dataframe\">\n",
              "  <thead>\n",
              "    <tr style=\"text-align: right;\">\n",
              "      <th></th>\n",
              "      <th>login</th>\n",
              "      <th>full_name</th>\n",
              "      <th>created_at</th>\n",
              "      <th>stargazers_count</th>\n",
              "      <th>watchers_count</th>\n",
              "      <th>language</th>\n",
              "      <th>has_projects</th>\n",
              "      <th>has_wiki</th>\n",
              "      <th>license_name</th>\n",
              "    </tr>\n",
              "  </thead>\n",
              "  <tbody>\n",
              "    <tr>\n",
              "      <th>0</th>\n",
              "      <td>nicknochnack</td>\n",
              "      <td>nicknochnack/ActionDetectionforSignLanguage</td>\n",
              "      <td>2021-06-16T09:12:01Z</td>\n",
              "      <td>406</td>\n",
              "      <td>406</td>\n",
              "      <td>Jupyter Notebook</td>\n",
              "      <td>True</td>\n",
              "      <td>True</td>\n",
              "      <td>NaN</td>\n",
              "    </tr>\n",
              "    <tr>\n",
              "      <th>1</th>\n",
              "      <td>nicknochnack</td>\n",
              "      <td>nicknochnack/AdvancedHandPoseWithMediaPipe</td>\n",
              "      <td>2021-04-25T00:13:57Z</td>\n",
              "      <td>37</td>\n",
              "      <td>37</td>\n",
              "      <td>Jupyter Notebook</td>\n",
              "      <td>True</td>\n",
              "      <td>True</td>\n",
              "      <td>NaN</td>\n",
              "    </tr>\n",
              "    <tr>\n",
              "      <th>2</th>\n",
              "      <td>nicknochnack</td>\n",
              "      <td>nicknochnack/ANPRwithPython</td>\n",
              "      <td>2020-12-13T04:39:49Z</td>\n",
              "      <td>106</td>\n",
              "      <td>106</td>\n",
              "      <td>Jupyter Notebook</td>\n",
              "      <td>True</td>\n",
              "      <td>True</td>\n",
              "      <td>NaN</td>\n",
              "    </tr>\n",
              "    <tr>\n",
              "      <th>3</th>\n",
              "      <td>nicknochnack</td>\n",
              "      <td>nicknochnack/AutoStreamlit</td>\n",
              "      <td>2022-10-25T21:25:41Z</td>\n",
              "      <td>72</td>\n",
              "      <td>72</td>\n",
              "      <td>Jupyter Notebook</td>\n",
              "      <td>True</td>\n",
              "      <td>True</td>\n",
              "      <td>NaN</td>\n",
              "    </tr>\n",
              "    <tr>\n",
              "      <th>4</th>\n",
              "      <td>nicknochnack</td>\n",
              "      <td>nicknochnack/beeagent</td>\n",
              "      <td>2024-09-19T08:05:08Z</td>\n",
              "      <td>8</td>\n",
              "      <td>8</td>\n",
              "      <td>TypeScript</td>\n",
              "      <td>True</td>\n",
              "      <td>True</td>\n",
              "      <td>NaN</td>\n",
              "    </tr>\n",
              "  </tbody>\n",
              "</table>\n",
              "</div>\n",
              "    <div class=\"colab-df-buttons\">\n",
              "\n",
              "  <div class=\"colab-df-container\">\n",
              "    <button class=\"colab-df-convert\" onclick=\"convertToInteractive('df-364e4b10-8538-4cd3-be4a-a78af9f984ae')\"\n",
              "            title=\"Convert this dataframe to an interactive table.\"\n",
              "            style=\"display:none;\">\n",
              "\n",
              "  <svg xmlns=\"http://www.w3.org/2000/svg\" height=\"24px\" viewBox=\"0 -960 960 960\">\n",
              "    <path d=\"M120-120v-720h720v720H120Zm60-500h600v-160H180v160Zm220 220h160v-160H400v160Zm0 220h160v-160H400v160ZM180-400h160v-160H180v160Zm440 0h160v-160H620v160ZM180-180h160v-160H180v160Zm440 0h160v-160H620v160Z\"/>\n",
              "  </svg>\n",
              "    </button>\n",
              "\n",
              "  <style>\n",
              "    .colab-df-container {\n",
              "      display:flex;\n",
              "      gap: 12px;\n",
              "    }\n",
              "\n",
              "    .colab-df-convert {\n",
              "      background-color: #E8F0FE;\n",
              "      border: none;\n",
              "      border-radius: 50%;\n",
              "      cursor: pointer;\n",
              "      display: none;\n",
              "      fill: #1967D2;\n",
              "      height: 32px;\n",
              "      padding: 0 0 0 0;\n",
              "      width: 32px;\n",
              "    }\n",
              "\n",
              "    .colab-df-convert:hover {\n",
              "      background-color: #E2EBFA;\n",
              "      box-shadow: 0px 1px 2px rgba(60, 64, 67, 0.3), 0px 1px 3px 1px rgba(60, 64, 67, 0.15);\n",
              "      fill: #174EA6;\n",
              "    }\n",
              "\n",
              "    .colab-df-buttons div {\n",
              "      margin-bottom: 4px;\n",
              "    }\n",
              "\n",
              "    [theme=dark] .colab-df-convert {\n",
              "      background-color: #3B4455;\n",
              "      fill: #D2E3FC;\n",
              "    }\n",
              "\n",
              "    [theme=dark] .colab-df-convert:hover {\n",
              "      background-color: #434B5C;\n",
              "      box-shadow: 0px 1px 3px 1px rgba(0, 0, 0, 0.15);\n",
              "      filter: drop-shadow(0px 1px 2px rgba(0, 0, 0, 0.3));\n",
              "      fill: #FFFFFF;\n",
              "    }\n",
              "  </style>\n",
              "\n",
              "    <script>\n",
              "      const buttonEl =\n",
              "        document.querySelector('#df-364e4b10-8538-4cd3-be4a-a78af9f984ae button.colab-df-convert');\n",
              "      buttonEl.style.display =\n",
              "        google.colab.kernel.accessAllowed ? 'block' : 'none';\n",
              "\n",
              "      async function convertToInteractive(key) {\n",
              "        const element = document.querySelector('#df-364e4b10-8538-4cd3-be4a-a78af9f984ae');\n",
              "        const dataTable =\n",
              "          await google.colab.kernel.invokeFunction('convertToInteractive',\n",
              "                                                    [key], {});\n",
              "        if (!dataTable) return;\n",
              "\n",
              "        const docLinkHtml = 'Like what you see? Visit the ' +\n",
              "          '<a target=\"_blank\" href=https://colab.research.google.com/notebooks/data_table.ipynb>data table notebook</a>'\n",
              "          + ' to learn more about interactive tables.';\n",
              "        element.innerHTML = '';\n",
              "        dataTable['output_type'] = 'display_data';\n",
              "        await google.colab.output.renderOutput(dataTable, element);\n",
              "        const docLink = document.createElement('div');\n",
              "        docLink.innerHTML = docLinkHtml;\n",
              "        element.appendChild(docLink);\n",
              "      }\n",
              "    </script>\n",
              "  </div>\n",
              "\n",
              "\n",
              "<div id=\"df-fe7b6b4a-074a-4256-94bb-253f2d918cc2\">\n",
              "  <button class=\"colab-df-quickchart\" onclick=\"quickchart('df-fe7b6b4a-074a-4256-94bb-253f2d918cc2')\"\n",
              "            title=\"Suggest charts\"\n",
              "            style=\"display:none;\">\n",
              "\n",
              "<svg xmlns=\"http://www.w3.org/2000/svg\" height=\"24px\"viewBox=\"0 0 24 24\"\n",
              "     width=\"24px\">\n",
              "    <g>\n",
              "        <path d=\"M19 3H5c-1.1 0-2 .9-2 2v14c0 1.1.9 2 2 2h14c1.1 0 2-.9 2-2V5c0-1.1-.9-2-2-2zM9 17H7v-7h2v7zm4 0h-2V7h2v10zm4 0h-2v-4h2v4z\"/>\n",
              "    </g>\n",
              "</svg>\n",
              "  </button>\n",
              "\n",
              "<style>\n",
              "  .colab-df-quickchart {\n",
              "      --bg-color: #E8F0FE;\n",
              "      --fill-color: #1967D2;\n",
              "      --hover-bg-color: #E2EBFA;\n",
              "      --hover-fill-color: #174EA6;\n",
              "      --disabled-fill-color: #AAA;\n",
              "      --disabled-bg-color: #DDD;\n",
              "  }\n",
              "\n",
              "  [theme=dark] .colab-df-quickchart {\n",
              "      --bg-color: #3B4455;\n",
              "      --fill-color: #D2E3FC;\n",
              "      --hover-bg-color: #434B5C;\n",
              "      --hover-fill-color: #FFFFFF;\n",
              "      --disabled-bg-color: #3B4455;\n",
              "      --disabled-fill-color: #666;\n",
              "  }\n",
              "\n",
              "  .colab-df-quickchart {\n",
              "    background-color: var(--bg-color);\n",
              "    border: none;\n",
              "    border-radius: 50%;\n",
              "    cursor: pointer;\n",
              "    display: none;\n",
              "    fill: var(--fill-color);\n",
              "    height: 32px;\n",
              "    padding: 0;\n",
              "    width: 32px;\n",
              "  }\n",
              "\n",
              "  .colab-df-quickchart:hover {\n",
              "    background-color: var(--hover-bg-color);\n",
              "    box-shadow: 0 1px 2px rgba(60, 64, 67, 0.3), 0 1px 3px 1px rgba(60, 64, 67, 0.15);\n",
              "    fill: var(--button-hover-fill-color);\n",
              "  }\n",
              "\n",
              "  .colab-df-quickchart-complete:disabled,\n",
              "  .colab-df-quickchart-complete:disabled:hover {\n",
              "    background-color: var(--disabled-bg-color);\n",
              "    fill: var(--disabled-fill-color);\n",
              "    box-shadow: none;\n",
              "  }\n",
              "\n",
              "  .colab-df-spinner {\n",
              "    border: 2px solid var(--fill-color);\n",
              "    border-color: transparent;\n",
              "    border-bottom-color: var(--fill-color);\n",
              "    animation:\n",
              "      spin 1s steps(1) infinite;\n",
              "  }\n",
              "\n",
              "  @keyframes spin {\n",
              "    0% {\n",
              "      border-color: transparent;\n",
              "      border-bottom-color: var(--fill-color);\n",
              "      border-left-color: var(--fill-color);\n",
              "    }\n",
              "    20% {\n",
              "      border-color: transparent;\n",
              "      border-left-color: var(--fill-color);\n",
              "      border-top-color: var(--fill-color);\n",
              "    }\n",
              "    30% {\n",
              "      border-color: transparent;\n",
              "      border-left-color: var(--fill-color);\n",
              "      border-top-color: var(--fill-color);\n",
              "      border-right-color: var(--fill-color);\n",
              "    }\n",
              "    40% {\n",
              "      border-color: transparent;\n",
              "      border-right-color: var(--fill-color);\n",
              "      border-top-color: var(--fill-color);\n",
              "    }\n",
              "    60% {\n",
              "      border-color: transparent;\n",
              "      border-right-color: var(--fill-color);\n",
              "    }\n",
              "    80% {\n",
              "      border-color: transparent;\n",
              "      border-right-color: var(--fill-color);\n",
              "      border-bottom-color: var(--fill-color);\n",
              "    }\n",
              "    90% {\n",
              "      border-color: transparent;\n",
              "      border-bottom-color: var(--fill-color);\n",
              "    }\n",
              "  }\n",
              "</style>\n",
              "\n",
              "  <script>\n",
              "    async function quickchart(key) {\n",
              "      const quickchartButtonEl =\n",
              "        document.querySelector('#' + key + ' button');\n",
              "      quickchartButtonEl.disabled = true;  // To prevent multiple clicks.\n",
              "      quickchartButtonEl.classList.add('colab-df-spinner');\n",
              "      try {\n",
              "        const charts = await google.colab.kernel.invokeFunction(\n",
              "            'suggestCharts', [key], {});\n",
              "      } catch (error) {\n",
              "        console.error('Error during call to suggestCharts:', error);\n",
              "      }\n",
              "      quickchartButtonEl.classList.remove('colab-df-spinner');\n",
              "      quickchartButtonEl.classList.add('colab-df-quickchart-complete');\n",
              "    }\n",
              "    (() => {\n",
              "      let quickchartButtonEl =\n",
              "        document.querySelector('#df-fe7b6b4a-074a-4256-94bb-253f2d918cc2 button');\n",
              "      quickchartButtonEl.style.display =\n",
              "        google.colab.kernel.accessAllowed ? 'block' : 'none';\n",
              "    })();\n",
              "  </script>\n",
              "</div>\n",
              "\n",
              "    </div>\n",
              "  </div>\n"
            ],
            "application/vnd.google.colaboratory.intrinsic+json": {
              "type": "dataframe",
              "variable_name": "repos",
              "summary": "{\n  \"name\": \"repos\",\n  \"rows\": 32415,\n  \"fields\": [\n    {\n      \"column\": \"login\",\n      \"properties\": {\n        \"dtype\": \"category\",\n        \"num_unique_values\": 370,\n        \"samples\": [\n          \"chrisosaurus\",\n          \"matthewpalmer\",\n          \"MaryamAustralia\"\n        ],\n        \"semantic_type\": \"\",\n        \"description\": \"\"\n      }\n    },\n    {\n      \"column\": \"full_name\",\n      \"properties\": {\n        \"dtype\": \"string\",\n        \"num_unique_values\": 32415,\n        \"samples\": [\n          \"ftsf/Nim\",\n          \"wacky6/comp6311-ass1\",\n          \"btnguyen2k/gocosmos\"\n        ],\n        \"semantic_type\": \"\",\n        \"description\": \"\"\n      }\n    },\n    {\n      \"column\": \"created_at\",\n      \"properties\": {\n        \"dtype\": \"object\",\n        \"num_unique_values\": 32411,\n        \"samples\": [\n          \"2020-04-15T10:29:07Z\",\n          \"2016-04-15T09:12:16Z\",\n          \"2020-02-23T15:28:38Z\"\n        ],\n        \"semantic_type\": \"\",\n        \"description\": \"\"\n      }\n    },\n    {\n      \"column\": \"stargazers_count\",\n      \"properties\": {\n        \"dtype\": \"number\",\n        \"std\": 358,\n        \"min\": 0,\n        \"max\": 27602,\n        \"num_unique_values\": 544,\n        \"samples\": [\n          322,\n          69,\n          365\n        ],\n        \"semantic_type\": \"\",\n        \"description\": \"\"\n      }\n    },\n    {\n      \"column\": \"watchers_count\",\n      \"properties\": {\n        \"dtype\": \"number\",\n        \"std\": 358,\n        \"min\": 0,\n        \"max\": 27602,\n        \"num_unique_values\": 544,\n        \"samples\": [\n          322,\n          69,\n          365\n        ],\n        \"semantic_type\": \"\",\n        \"description\": \"\"\n      }\n    },\n    {\n      \"column\": \"language\",\n      \"properties\": {\n        \"dtype\": \"category\",\n        \"num_unique_values\": 191,\n        \"samples\": [\n          \"Brightscript\",\n          \"MDX\",\n          \"Delphi\"\n        ],\n        \"semantic_type\": \"\",\n        \"description\": \"\"\n      }\n    },\n    {\n      \"column\": \"has_projects\",\n      \"properties\": {\n        \"dtype\": \"boolean\",\n        \"num_unique_values\": 2,\n        \"samples\": [\n          false,\n          true\n        ],\n        \"semantic_type\": \"\",\n        \"description\": \"\"\n      }\n    },\n    {\n      \"column\": \"has_wiki\",\n      \"properties\": {\n        \"dtype\": \"boolean\",\n        \"num_unique_values\": 2,\n        \"samples\": [\n          false,\n          true\n        ],\n        \"semantic_type\": \"\",\n        \"description\": \"\"\n      }\n    },\n    {\n      \"column\": \"license_name\",\n      \"properties\": {\n        \"dtype\": \"category\",\n        \"num_unique_values\": 31,\n        \"samples\": [\n          \"epl-2.0\",\n          \"isc\"\n        ],\n        \"semantic_type\": \"\",\n        \"description\": \"\"\n      }\n    }\n  ]\n}"
            }
          },
          "metadata": {},
          "execution_count": 25
        }
      ],
      "source": [
        "repos = pd.read_csv('repositories.csv')\n",
        "repos.head()"
      ]
    },
    {
      "cell_type": "code",
      "execution_count": 26,
      "id": "72f5e06d-b056-4463-b3e8-363b5edd50a0",
      "metadata": {
        "id": "72f5e06d-b056-4463-b3e8-363b5edd50a0"
      },
      "outputs": [],
      "source": [
        "# repos['has_wiki'] = repos['has_wiki'].replace({True: 'true', False: 'false'})\n",
        "# repos['has_projects'] = repos['has_projects'].replace({True: 'true', False: 'false'})"
      ]
    },
    {
      "cell_type": "code",
      "execution_count": 27,
      "id": "f5b0a4ce-ae41-4066-a59a-58e81f27ad47",
      "metadata": {
        "colab": {
          "base_uri": "https://localhost:8080/",
          "height": 209
        },
        "id": "f5b0a4ce-ae41-4066-a59a-58e81f27ad47",
        "outputId": "850a62ea-1079-40e9-907b-571c24d71774"
      },
      "outputs": [
        {
          "output_type": "execute_result",
          "data": {
            "text/plain": [
              "license_name\n",
              "mit           9063\n",
              "other         2838\n",
              "apache-2.0    2655\n",
              "Name: count, dtype: int64"
            ],
            "text/html": [
              "<div>\n",
              "<style scoped>\n",
              "    .dataframe tbody tr th:only-of-type {\n",
              "        vertical-align: middle;\n",
              "    }\n",
              "\n",
              "    .dataframe tbody tr th {\n",
              "        vertical-align: top;\n",
              "    }\n",
              "\n",
              "    .dataframe thead th {\n",
              "        text-align: right;\n",
              "    }\n",
              "</style>\n",
              "<table border=\"1\" class=\"dataframe\">\n",
              "  <thead>\n",
              "    <tr style=\"text-align: right;\">\n",
              "      <th></th>\n",
              "      <th>count</th>\n",
              "    </tr>\n",
              "    <tr>\n",
              "      <th>license_name</th>\n",
              "      <th></th>\n",
              "    </tr>\n",
              "  </thead>\n",
              "  <tbody>\n",
              "    <tr>\n",
              "      <th>mit</th>\n",
              "      <td>9063</td>\n",
              "    </tr>\n",
              "    <tr>\n",
              "      <th>other</th>\n",
              "      <td>2838</td>\n",
              "    </tr>\n",
              "    <tr>\n",
              "      <th>apache-2.0</th>\n",
              "      <td>2655</td>\n",
              "    </tr>\n",
              "  </tbody>\n",
              "</table>\n",
              "</div><br><label><b>dtype:</b> int64</label>"
            ]
          },
          "metadata": {},
          "execution_count": 27
        }
      ],
      "source": [
        "repos['license_name'].value_counts().head(3)"
      ]
    },
    {
      "cell_type": "markdown",
      "id": "662f1894-2c60-429c-b06d-cbe36afe6f08",
      "metadata": {
        "id": "662f1894-2c60-429c-b06d-cbe36afe6f08"
      },
      "source": [
        "#### Q4. Which company do the majority of these developers work at?"
      ]
    },
    {
      "cell_type": "code",
      "execution_count": 28,
      "id": "93a985b2-4e56-4871-9757-23e6ae5ed0de",
      "metadata": {
        "colab": {
          "base_uri": "https://localhost:8080/",
          "height": 146
        },
        "id": "93a985b2-4e56-4871-9757-23e6ae5ed0de",
        "outputId": "aada3e4e-aeef-45a0-ab4d-b1b125141369"
      },
      "outputs": [
        {
          "output_type": "execute_result",
          "data": {
            "text/plain": [
              "company\n",
              "ATLASSIAN    19\n",
              "Name: count, dtype: int64"
            ],
            "text/html": [
              "<div>\n",
              "<style scoped>\n",
              "    .dataframe tbody tr th:only-of-type {\n",
              "        vertical-align: middle;\n",
              "    }\n",
              "\n",
              "    .dataframe tbody tr th {\n",
              "        vertical-align: top;\n",
              "    }\n",
              "\n",
              "    .dataframe thead th {\n",
              "        text-align: right;\n",
              "    }\n",
              "</style>\n",
              "<table border=\"1\" class=\"dataframe\">\n",
              "  <thead>\n",
              "    <tr style=\"text-align: right;\">\n",
              "      <th></th>\n",
              "      <th>count</th>\n",
              "    </tr>\n",
              "    <tr>\n",
              "      <th>company</th>\n",
              "      <th></th>\n",
              "    </tr>\n",
              "  </thead>\n",
              "  <tbody>\n",
              "    <tr>\n",
              "      <th>ATLASSIAN</th>\n",
              "      <td>19</td>\n",
              "    </tr>\n",
              "  </tbody>\n",
              "</table>\n",
              "</div><br><label><b>dtype:</b> int64</label>"
            ]
          },
          "metadata": {},
          "execution_count": 28
        }
      ],
      "source": [
        "users['company'].value_counts().head(1)"
      ]
    },
    {
      "cell_type": "markdown",
      "id": "3e73104c-f44c-4e59-aecc-cb10a34578a1",
      "metadata": {
        "id": "3e73104c-f44c-4e59-aecc-cb10a34578a1"
      },
      "source": [
        "#### Q5. Which programming language is most popular among these users?"
      ]
    },
    {
      "cell_type": "code",
      "execution_count": 29,
      "id": "1abcf548-42aa-43fc-837e-86c6db860617",
      "metadata": {
        "colab": {
          "base_uri": "https://localhost:8080/",
          "height": 146
        },
        "id": "1abcf548-42aa-43fc-837e-86c6db860617",
        "outputId": "0bc86d85-5275-4c39-b32f-f34c75bfa3dc"
      },
      "outputs": [
        {
          "output_type": "execute_result",
          "data": {
            "text/plain": [
              "language\n",
              "JavaScript    5541\n",
              "Name: count, dtype: int64"
            ],
            "text/html": [
              "<div>\n",
              "<style scoped>\n",
              "    .dataframe tbody tr th:only-of-type {\n",
              "        vertical-align: middle;\n",
              "    }\n",
              "\n",
              "    .dataframe tbody tr th {\n",
              "        vertical-align: top;\n",
              "    }\n",
              "\n",
              "    .dataframe thead th {\n",
              "        text-align: right;\n",
              "    }\n",
              "</style>\n",
              "<table border=\"1\" class=\"dataframe\">\n",
              "  <thead>\n",
              "    <tr style=\"text-align: right;\">\n",
              "      <th></th>\n",
              "      <th>count</th>\n",
              "    </tr>\n",
              "    <tr>\n",
              "      <th>language</th>\n",
              "      <th></th>\n",
              "    </tr>\n",
              "  </thead>\n",
              "  <tbody>\n",
              "    <tr>\n",
              "      <th>JavaScript</th>\n",
              "      <td>5541</td>\n",
              "    </tr>\n",
              "  </tbody>\n",
              "</table>\n",
              "</div><br><label><b>dtype:</b> int64</label>"
            ]
          },
          "metadata": {},
          "execution_count": 29
        }
      ],
      "source": [
        "repos['language'].value_counts().head(1)"
      ]
    },
    {
      "cell_type": "markdown",
      "id": "bf7abc13-3226-4c35-b42e-400f06cac01d",
      "metadata": {
        "id": "bf7abc13-3226-4c35-b42e-400f06cac01d"
      },
      "source": [
        "#### Q6. Which programming language is the second most popular among users who joined after 2020?"
      ]
    },
    {
      "cell_type": "code",
      "execution_count": 30,
      "id": "d01727ac-d1de-4407-a65b-db7a88223d81",
      "metadata": {
        "colab": {
          "base_uri": "https://localhost:8080/",
          "height": 451
        },
        "id": "d01727ac-d1de-4407-a65b-db7a88223d81",
        "outputId": "912b2b2f-d99a-4f93-97e9-fefa7e0aa720"
      },
      "outputs": [
        {
          "output_type": "execute_result",
          "data": {
            "text/plain": [
              "                login              name          company  \\\n",
              "3                 0vm                Ak              NaN   \n",
              "36             ndleah       Leah Nguyen              NaN   \n",
              "49           pixegami          Pixegami              NaN   \n",
              "70    andrekolodochka  Andre Kolodochka           GITHUB   \n",
              "121  pentestfunctions          Opabinia  COO @ HACKNEXUS   \n",
              "\n",
              "                  location                    email  hireable  \\\n",
              "3        Sydney, Australia                      NaN      True   \n",
              "36   Sydney NSW, Australia  nduongthucanh@gmail.com      True   \n",
              "49       Sydney, Australia                      NaN     False   \n",
              "70       Sydney, Australia                      NaN     False   \n",
              "121      Sydney, Australia                      NaN     False   \n",
              "\n",
              "                                                   bio  public_repos  \\\n",
              "3                                              erm hai            10   \n",
              "36      Data Engineer 👩‍💻 ◦ Stackoverflow Researcher 🔥            40   \n",
              "49   I make tech projects and tutorials 🛠️ Tech Sta...            58   \n",
              "70                                                 NaN            27   \n",
              "121  Just another github for crummy idea testing/pr...           151   \n",
              "\n",
              "     followers  following                created_at  \n",
              "3         6571          3 2021-03-02 06:55:10+00:00  \n",
              "36         803         34 2021-04-25 12:35:33+00:00  \n",
              "49         582          0 2020-12-02 08:36:14+00:00  \n",
              "70         455          0 2020-01-07 21:06:38+00:00  \n",
              "121        278         40 2023-09-04 07:48:43+00:00  "
            ],
            "text/html": [
              "\n",
              "  <div id=\"df-75f830ba-e3d6-4199-91b6-97f84c158883\" class=\"colab-df-container\">\n",
              "    <div>\n",
              "<style scoped>\n",
              "    .dataframe tbody tr th:only-of-type {\n",
              "        vertical-align: middle;\n",
              "    }\n",
              "\n",
              "    .dataframe tbody tr th {\n",
              "        vertical-align: top;\n",
              "    }\n",
              "\n",
              "    .dataframe thead th {\n",
              "        text-align: right;\n",
              "    }\n",
              "</style>\n",
              "<table border=\"1\" class=\"dataframe\">\n",
              "  <thead>\n",
              "    <tr style=\"text-align: right;\">\n",
              "      <th></th>\n",
              "      <th>login</th>\n",
              "      <th>name</th>\n",
              "      <th>company</th>\n",
              "      <th>location</th>\n",
              "      <th>email</th>\n",
              "      <th>hireable</th>\n",
              "      <th>bio</th>\n",
              "      <th>public_repos</th>\n",
              "      <th>followers</th>\n",
              "      <th>following</th>\n",
              "      <th>created_at</th>\n",
              "    </tr>\n",
              "  </thead>\n",
              "  <tbody>\n",
              "    <tr>\n",
              "      <th>3</th>\n",
              "      <td>0vm</td>\n",
              "      <td>Ak</td>\n",
              "      <td>NaN</td>\n",
              "      <td>Sydney, Australia</td>\n",
              "      <td>NaN</td>\n",
              "      <td>True</td>\n",
              "      <td>erm hai</td>\n",
              "      <td>10</td>\n",
              "      <td>6571</td>\n",
              "      <td>3</td>\n",
              "      <td>2021-03-02 06:55:10+00:00</td>\n",
              "    </tr>\n",
              "    <tr>\n",
              "      <th>36</th>\n",
              "      <td>ndleah</td>\n",
              "      <td>Leah Nguyen</td>\n",
              "      <td>NaN</td>\n",
              "      <td>Sydney NSW, Australia</td>\n",
              "      <td>nduongthucanh@gmail.com</td>\n",
              "      <td>True</td>\n",
              "      <td>Data Engineer 👩‍💻 ◦ Stackoverflow Researcher 🔥</td>\n",
              "      <td>40</td>\n",
              "      <td>803</td>\n",
              "      <td>34</td>\n",
              "      <td>2021-04-25 12:35:33+00:00</td>\n",
              "    </tr>\n",
              "    <tr>\n",
              "      <th>49</th>\n",
              "      <td>pixegami</td>\n",
              "      <td>Pixegami</td>\n",
              "      <td>NaN</td>\n",
              "      <td>Sydney, Australia</td>\n",
              "      <td>NaN</td>\n",
              "      <td>False</td>\n",
              "      <td>I make tech projects and tutorials 🛠️ Tech Sta...</td>\n",
              "      <td>58</td>\n",
              "      <td>582</td>\n",
              "      <td>0</td>\n",
              "      <td>2020-12-02 08:36:14+00:00</td>\n",
              "    </tr>\n",
              "    <tr>\n",
              "      <th>70</th>\n",
              "      <td>andrekolodochka</td>\n",
              "      <td>Andre Kolodochka</td>\n",
              "      <td>GITHUB</td>\n",
              "      <td>Sydney, Australia</td>\n",
              "      <td>NaN</td>\n",
              "      <td>False</td>\n",
              "      <td>NaN</td>\n",
              "      <td>27</td>\n",
              "      <td>455</td>\n",
              "      <td>0</td>\n",
              "      <td>2020-01-07 21:06:38+00:00</td>\n",
              "    </tr>\n",
              "    <tr>\n",
              "      <th>121</th>\n",
              "      <td>pentestfunctions</td>\n",
              "      <td>Opabinia</td>\n",
              "      <td>COO @ HACKNEXUS</td>\n",
              "      <td>Sydney, Australia</td>\n",
              "      <td>NaN</td>\n",
              "      <td>False</td>\n",
              "      <td>Just another github for crummy idea testing/pr...</td>\n",
              "      <td>151</td>\n",
              "      <td>278</td>\n",
              "      <td>40</td>\n",
              "      <td>2023-09-04 07:48:43+00:00</td>\n",
              "    </tr>\n",
              "  </tbody>\n",
              "</table>\n",
              "</div>\n",
              "    <div class=\"colab-df-buttons\">\n",
              "\n",
              "  <div class=\"colab-df-container\">\n",
              "    <button class=\"colab-df-convert\" onclick=\"convertToInteractive('df-75f830ba-e3d6-4199-91b6-97f84c158883')\"\n",
              "            title=\"Convert this dataframe to an interactive table.\"\n",
              "            style=\"display:none;\">\n",
              "\n",
              "  <svg xmlns=\"http://www.w3.org/2000/svg\" height=\"24px\" viewBox=\"0 -960 960 960\">\n",
              "    <path d=\"M120-120v-720h720v720H120Zm60-500h600v-160H180v160Zm220 220h160v-160H400v160Zm0 220h160v-160H400v160ZM180-400h160v-160H180v160Zm440 0h160v-160H620v160ZM180-180h160v-160H180v160Zm440 0h160v-160H620v160Z\"/>\n",
              "  </svg>\n",
              "    </button>\n",
              "\n",
              "  <style>\n",
              "    .colab-df-container {\n",
              "      display:flex;\n",
              "      gap: 12px;\n",
              "    }\n",
              "\n",
              "    .colab-df-convert {\n",
              "      background-color: #E8F0FE;\n",
              "      border: none;\n",
              "      border-radius: 50%;\n",
              "      cursor: pointer;\n",
              "      display: none;\n",
              "      fill: #1967D2;\n",
              "      height: 32px;\n",
              "      padding: 0 0 0 0;\n",
              "      width: 32px;\n",
              "    }\n",
              "\n",
              "    .colab-df-convert:hover {\n",
              "      background-color: #E2EBFA;\n",
              "      box-shadow: 0px 1px 2px rgba(60, 64, 67, 0.3), 0px 1px 3px 1px rgba(60, 64, 67, 0.15);\n",
              "      fill: #174EA6;\n",
              "    }\n",
              "\n",
              "    .colab-df-buttons div {\n",
              "      margin-bottom: 4px;\n",
              "    }\n",
              "\n",
              "    [theme=dark] .colab-df-convert {\n",
              "      background-color: #3B4455;\n",
              "      fill: #D2E3FC;\n",
              "    }\n",
              "\n",
              "    [theme=dark] .colab-df-convert:hover {\n",
              "      background-color: #434B5C;\n",
              "      box-shadow: 0px 1px 3px 1px rgba(0, 0, 0, 0.15);\n",
              "      filter: drop-shadow(0px 1px 2px rgba(0, 0, 0, 0.3));\n",
              "      fill: #FFFFFF;\n",
              "    }\n",
              "  </style>\n",
              "\n",
              "    <script>\n",
              "      const buttonEl =\n",
              "        document.querySelector('#df-75f830ba-e3d6-4199-91b6-97f84c158883 button.colab-df-convert');\n",
              "      buttonEl.style.display =\n",
              "        google.colab.kernel.accessAllowed ? 'block' : 'none';\n",
              "\n",
              "      async function convertToInteractive(key) {\n",
              "        const element = document.querySelector('#df-75f830ba-e3d6-4199-91b6-97f84c158883');\n",
              "        const dataTable =\n",
              "          await google.colab.kernel.invokeFunction('convertToInteractive',\n",
              "                                                    [key], {});\n",
              "        if (!dataTable) return;\n",
              "\n",
              "        const docLinkHtml = 'Like what you see? Visit the ' +\n",
              "          '<a target=\"_blank\" href=https://colab.research.google.com/notebooks/data_table.ipynb>data table notebook</a>'\n",
              "          + ' to learn more about interactive tables.';\n",
              "        element.innerHTML = '';\n",
              "        dataTable['output_type'] = 'display_data';\n",
              "        await google.colab.output.renderOutput(dataTable, element);\n",
              "        const docLink = document.createElement('div');\n",
              "        docLink.innerHTML = docLinkHtml;\n",
              "        element.appendChild(docLink);\n",
              "      }\n",
              "    </script>\n",
              "  </div>\n",
              "\n",
              "\n",
              "<div id=\"df-2b86ee86-558b-4aad-b25c-f02dd17e6f11\">\n",
              "  <button class=\"colab-df-quickchart\" onclick=\"quickchart('df-2b86ee86-558b-4aad-b25c-f02dd17e6f11')\"\n",
              "            title=\"Suggest charts\"\n",
              "            style=\"display:none;\">\n",
              "\n",
              "<svg xmlns=\"http://www.w3.org/2000/svg\" height=\"24px\"viewBox=\"0 0 24 24\"\n",
              "     width=\"24px\">\n",
              "    <g>\n",
              "        <path d=\"M19 3H5c-1.1 0-2 .9-2 2v14c0 1.1.9 2 2 2h14c1.1 0 2-.9 2-2V5c0-1.1-.9-2-2-2zM9 17H7v-7h2v7zm4 0h-2V7h2v10zm4 0h-2v-4h2v4z\"/>\n",
              "    </g>\n",
              "</svg>\n",
              "  </button>\n",
              "\n",
              "<style>\n",
              "  .colab-df-quickchart {\n",
              "      --bg-color: #E8F0FE;\n",
              "      --fill-color: #1967D2;\n",
              "      --hover-bg-color: #E2EBFA;\n",
              "      --hover-fill-color: #174EA6;\n",
              "      --disabled-fill-color: #AAA;\n",
              "      --disabled-bg-color: #DDD;\n",
              "  }\n",
              "\n",
              "  [theme=dark] .colab-df-quickchart {\n",
              "      --bg-color: #3B4455;\n",
              "      --fill-color: #D2E3FC;\n",
              "      --hover-bg-color: #434B5C;\n",
              "      --hover-fill-color: #FFFFFF;\n",
              "      --disabled-bg-color: #3B4455;\n",
              "      --disabled-fill-color: #666;\n",
              "  }\n",
              "\n",
              "  .colab-df-quickchart {\n",
              "    background-color: var(--bg-color);\n",
              "    border: none;\n",
              "    border-radius: 50%;\n",
              "    cursor: pointer;\n",
              "    display: none;\n",
              "    fill: var(--fill-color);\n",
              "    height: 32px;\n",
              "    padding: 0;\n",
              "    width: 32px;\n",
              "  }\n",
              "\n",
              "  .colab-df-quickchart:hover {\n",
              "    background-color: var(--hover-bg-color);\n",
              "    box-shadow: 0 1px 2px rgba(60, 64, 67, 0.3), 0 1px 3px 1px rgba(60, 64, 67, 0.15);\n",
              "    fill: var(--button-hover-fill-color);\n",
              "  }\n",
              "\n",
              "  .colab-df-quickchart-complete:disabled,\n",
              "  .colab-df-quickchart-complete:disabled:hover {\n",
              "    background-color: var(--disabled-bg-color);\n",
              "    fill: var(--disabled-fill-color);\n",
              "    box-shadow: none;\n",
              "  }\n",
              "\n",
              "  .colab-df-spinner {\n",
              "    border: 2px solid var(--fill-color);\n",
              "    border-color: transparent;\n",
              "    border-bottom-color: var(--fill-color);\n",
              "    animation:\n",
              "      spin 1s steps(1) infinite;\n",
              "  }\n",
              "\n",
              "  @keyframes spin {\n",
              "    0% {\n",
              "      border-color: transparent;\n",
              "      border-bottom-color: var(--fill-color);\n",
              "      border-left-color: var(--fill-color);\n",
              "    }\n",
              "    20% {\n",
              "      border-color: transparent;\n",
              "      border-left-color: var(--fill-color);\n",
              "      border-top-color: var(--fill-color);\n",
              "    }\n",
              "    30% {\n",
              "      border-color: transparent;\n",
              "      border-left-color: var(--fill-color);\n",
              "      border-top-color: var(--fill-color);\n",
              "      border-right-color: var(--fill-color);\n",
              "    }\n",
              "    40% {\n",
              "      border-color: transparent;\n",
              "      border-right-color: var(--fill-color);\n",
              "      border-top-color: var(--fill-color);\n",
              "    }\n",
              "    60% {\n",
              "      border-color: transparent;\n",
              "      border-right-color: var(--fill-color);\n",
              "    }\n",
              "    80% {\n",
              "      border-color: transparent;\n",
              "      border-right-color: var(--fill-color);\n",
              "      border-bottom-color: var(--fill-color);\n",
              "    }\n",
              "    90% {\n",
              "      border-color: transparent;\n",
              "      border-bottom-color: var(--fill-color);\n",
              "    }\n",
              "  }\n",
              "</style>\n",
              "\n",
              "  <script>\n",
              "    async function quickchart(key) {\n",
              "      const quickchartButtonEl =\n",
              "        document.querySelector('#' + key + ' button');\n",
              "      quickchartButtonEl.disabled = true;  // To prevent multiple clicks.\n",
              "      quickchartButtonEl.classList.add('colab-df-spinner');\n",
              "      try {\n",
              "        const charts = await google.colab.kernel.invokeFunction(\n",
              "            'suggestCharts', [key], {});\n",
              "      } catch (error) {\n",
              "        console.error('Error during call to suggestCharts:', error);\n",
              "      }\n",
              "      quickchartButtonEl.classList.remove('colab-df-spinner');\n",
              "      quickchartButtonEl.classList.add('colab-df-quickchart-complete');\n",
              "    }\n",
              "    (() => {\n",
              "      let quickchartButtonEl =\n",
              "        document.querySelector('#df-2b86ee86-558b-4aad-b25c-f02dd17e6f11 button');\n",
              "      quickchartButtonEl.style.display =\n",
              "        google.colab.kernel.accessAllowed ? 'block' : 'none';\n",
              "    })();\n",
              "  </script>\n",
              "</div>\n",
              "\n",
              "    </div>\n",
              "  </div>\n"
            ],
            "application/vnd.google.colaboratory.intrinsic+json": {
              "type": "dataframe",
              "variable_name": "users_after_2020",
              "summary": "{\n  \"name\": \"users_after_2020\",\n  \"rows\": 12,\n  \"fields\": [\n    {\n      \"column\": \"login\",\n      \"properties\": {\n        \"dtype\": \"string\",\n        \"num_unique_values\": 12,\n        \"samples\": [\n          \"JiaWu-Repository\",\n          \"jasonsreid\",\n          \"0vm\"\n        ],\n        \"semantic_type\": \"\",\n        \"description\": \"\"\n      }\n    },\n    {\n      \"column\": \"name\",\n      \"properties\": {\n        \"dtype\": \"string\",\n        \"num_unique_values\": 12,\n        \"samples\": [\n          \"Jia Wu\",\n          \"Jason Reid\",\n          \"Ak\"\n        ],\n        \"semantic_type\": \"\",\n        \"description\": \"\"\n      }\n    },\n    {\n      \"column\": \"company\",\n      \"properties\": {\n        \"dtype\": \"string\",\n        \"num_unique_values\": 6,\n        \"samples\": [\n          \"GITHUB\",\n          \"COO @ HACKNEXUS\",\n          \"UNSLOTH AI\"\n        ],\n        \"semantic_type\": \"\",\n        \"description\": \"\"\n      }\n    },\n    {\n      \"column\": \"location\",\n      \"properties\": {\n        \"dtype\": \"string\",\n        \"num_unique_values\": 7,\n        \"samples\": [\n          \"Sydney, Australia\",\n          \"Sydney NSW, Australia\",\n          \"Sydney Australia\"\n        ],\n        \"semantic_type\": \"\",\n        \"description\": \"\"\n      }\n    },\n    {\n      \"column\": \"email\",\n      \"properties\": {\n        \"dtype\": \"category\",\n        \"num_unique_values\": 2,\n        \"samples\": [\n          \"opensource@canva.com\",\n          \"nduongthucanh@gmail.com\"\n        ],\n        \"semantic_type\": \"\",\n        \"description\": \"\"\n      }\n    },\n    {\n      \"column\": \"hireable\",\n      \"properties\": {\n        \"dtype\": \"boolean\",\n        \"num_unique_values\": 2,\n        \"samples\": [\n          false,\n          true\n        ],\n        \"semantic_type\": \"\",\n        \"description\": \"\"\n      }\n    },\n    {\n      \"column\": \"bio\",\n      \"properties\": {\n        \"dtype\": \"string\",\n        \"num_unique_values\": 11,\n        \"samples\": [\n          \"Visit @SmartTokenLabs and @AlphaWallet on GitHub for Smart Layer repos. TokenScript standardization is under @eea-oasis\",\n          \"erm hai\"\n        ],\n        \"semantic_type\": \"\",\n        \"description\": \"\"\n      }\n    },\n    {\n      \"column\": \"public_repos\",\n      \"properties\": {\n        \"dtype\": \"number\",\n        \"std\": 42,\n        \"min\": 3,\n        \"max\": 151,\n        \"num_unique_values\": 12,\n        \"samples\": [\n          48,\n          6\n        ],\n        \"semantic_type\": \"\",\n        \"description\": \"\"\n      }\n    },\n    {\n      \"column\": \"followers\",\n      \"properties\": {\n        \"dtype\": \"number\",\n        \"std\": 1821,\n        \"min\": 103,\n        \"max\": 6571,\n        \"num_unique_values\": 12,\n        \"samples\": [\n          141,\n          148\n        ],\n        \"semantic_type\": \"\",\n        \"description\": \"\"\n      }\n    },\n    {\n      \"column\": \"following\",\n      \"properties\": {\n        \"dtype\": \"number\",\n        \"std\": 229,\n        \"min\": 0,\n        \"max\": 802,\n        \"num_unique_values\": 9,\n        \"samples\": [\n          230,\n          34\n        ],\n        \"semantic_type\": \"\",\n        \"description\": \"\"\n      }\n    },\n    {\n      \"column\": \"created_at\",\n      \"properties\": {\n        \"dtype\": \"date\",\n        \"min\": \"2020-01-07 21:06:38+00:00\",\n        \"max\": \"2023-09-04 07:48:43+00:00\",\n        \"num_unique_values\": 12,\n        \"samples\": [\n          \"2020-06-17 12:22:51+00:00\",\n          \"2023-08-13 13:00:42+00:00\"\n        ],\n        \"semantic_type\": \"\",\n        \"description\": \"\"\n      }\n    }\n  ]\n}"
            }
          },
          "metadata": {},
          "execution_count": 30
        }
      ],
      "source": [
        "users_after_2020 = users[users['created_at'] > '2020-01-01']\n",
        "users_after_2020.head()"
      ]
    },
    {
      "cell_type": "code",
      "execution_count": 47,
      "id": "aee537b6-38c7-4aa5-baae-c398fe385053",
      "metadata": {
        "id": "aee537b6-38c7-4aa5-baae-c398fe385053",
        "outputId": "092b2b43-5b0c-4cd2-e0d3-73200d2ca1d3",
        "colab": {
          "base_uri": "https://localhost:8080/",
          "height": 272
        }
      },
      "outputs": [
        {
          "output_type": "execute_result",
          "data": {
            "text/plain": [
              "language\n",
              "Python        112\n",
              "JavaScript     88\n",
              "TypeScript     26\n",
              "HTML           16\n",
              "Shell          16\n",
              "Name: count, dtype: int64"
            ],
            "text/html": [
              "<div>\n",
              "<style scoped>\n",
              "    .dataframe tbody tr th:only-of-type {\n",
              "        vertical-align: middle;\n",
              "    }\n",
              "\n",
              "    .dataframe tbody tr th {\n",
              "        vertical-align: top;\n",
              "    }\n",
              "\n",
              "    .dataframe thead th {\n",
              "        text-align: right;\n",
              "    }\n",
              "</style>\n",
              "<table border=\"1\" class=\"dataframe\">\n",
              "  <thead>\n",
              "    <tr style=\"text-align: right;\">\n",
              "      <th></th>\n",
              "      <th>count</th>\n",
              "    </tr>\n",
              "    <tr>\n",
              "      <th>language</th>\n",
              "      <th></th>\n",
              "    </tr>\n",
              "  </thead>\n",
              "  <tbody>\n",
              "    <tr>\n",
              "      <th>Python</th>\n",
              "      <td>112</td>\n",
              "    </tr>\n",
              "    <tr>\n",
              "      <th>JavaScript</th>\n",
              "      <td>88</td>\n",
              "    </tr>\n",
              "    <tr>\n",
              "      <th>TypeScript</th>\n",
              "      <td>26</td>\n",
              "    </tr>\n",
              "    <tr>\n",
              "      <th>HTML</th>\n",
              "      <td>16</td>\n",
              "    </tr>\n",
              "    <tr>\n",
              "      <th>Shell</th>\n",
              "      <td>16</td>\n",
              "    </tr>\n",
              "  </tbody>\n",
              "</table>\n",
              "</div><br><label><b>dtype:</b> int64</label>"
            ]
          },
          "metadata": {},
          "execution_count": 47
        }
      ],
      "source": [
        "repos_2020 = repos[repos['login'].isin(users_after_2020['login'].tolist())]\n",
        "repos_2020['language'].value_counts().head()"
      ]
    },
    {
      "cell_type": "markdown",
      "id": "d0b07a2f-bcae-496b-ab7e-188a2f0aa7be",
      "metadata": {
        "id": "d0b07a2f-bcae-496b-ab7e-188a2f0aa7be"
      },
      "source": [
        "#### Q7. Which language has the highest average number of stars per repository?"
      ]
    },
    {
      "cell_type": "code",
      "execution_count": 48,
      "id": "8c8a119a-e562-4855-8330-23b6dccdfea9",
      "metadata": {
        "colab": {
          "base_uri": "https://localhost:8080/"
        },
        "id": "8c8a119a-e562-4855-8330-23b6dccdfea9",
        "outputId": "c84484f0-c180-476f-9cf4-7640906d1c7e"
      },
      "outputs": [
        {
          "output_type": "stream",
          "name": "stdout",
          "text": [
            "Mermaid\n"
          ]
        }
      ],
      "source": [
        "avg_stars = repos.groupby('language')['stargazers_count'].mean()\n",
        "top_lang = avg_stars.idxmax()\n",
        "top_stars = avg_stars.max()\n",
        "print(top_lang)"
      ]
    },
    {
      "cell_type": "markdown",
      "id": "e430846a-1518-409f-8717-cb2f84570460",
      "metadata": {
        "id": "e430846a-1518-409f-8717-cb2f84570460"
      },
      "source": [
        "#### Q8. Let's define leader_strength as followers / (1 + following). Who are the top 5 in terms of leader_strength? List their login in order, comma-separated."
      ]
    },
    {
      "cell_type": "code",
      "execution_count": 49,
      "id": "aa51b046-149f-4ef5-89ff-62586043992c",
      "metadata": {
        "colab": {
          "base_uri": "https://localhost:8080/"
        },
        "id": "aa51b046-149f-4ef5-89ff-62586043992c",
        "outputId": "656610aa-425c-4b10-932d-3cd0904151e4"
      },
      "outputs": [
        {
          "output_type": "stream",
          "name": "stdout",
          "text": [
            "brendangregg,cornflourblue,Canva,nicknochnack,0vm\n"
          ]
        }
      ],
      "source": [
        "users['leader_strength'] = users['followers'] / (1 + users['following'])\n",
        "top5_lead = users.sort_values(by='leader_strength', ascending=False).head()\n",
        "print(','.join(top5_lead['login'].tolist()))"
      ]
    },
    {
      "cell_type": "markdown",
      "id": "8dd87be3-3a61-4fe1-ab5c-1ef836c545d3",
      "metadata": {
        "id": "8dd87be3-3a61-4fe1-ab5c-1ef836c545d3"
      },
      "source": [
        "#### Q9. What is the correlation between the number of followers and the number of public repositories among users in Sydney?"
      ]
    },
    {
      "cell_type": "code",
      "execution_count": 51,
      "id": "91e8b274-bde5-41ac-91d2-d965334f2d35",
      "metadata": {
        "colab": {
          "base_uri": "https://localhost:8080/"
        },
        "id": "91e8b274-bde5-41ac-91d2-d965334f2d35",
        "outputId": "9624f1ca-0da0-42f6-af62-2a84a464d034"
      },
      "outputs": [
        {
          "output_type": "stream",
          "name": "stdout",
          "text": [
            "0.033\n"
          ]
        }
      ],
      "source": [
        "correlation = users['followers'].corr(users['public_repos'])\n",
        "print(f\"{correlation:.3f}\")"
      ]
    },
    {
      "cell_type": "markdown",
      "id": "23dac608-8b88-48d8-aeae-1e11b2cb2b87",
      "metadata": {
        "id": "23dac608-8b88-48d8-aeae-1e11b2cb2b87"
      },
      "source": [
        "#### Q10. Does creating more repos help users get more followers? Using regression, estimate how many additional followers a user gets per additional public repository."
      ]
    },
    {
      "cell_type": "code",
      "execution_count": 52,
      "id": "9eede565-f813-4807-989b-051201f7f411",
      "metadata": {
        "colab": {
          "base_uri": "https://localhost:8080/"
        },
        "id": "9eede565-f813-4807-989b-051201f7f411",
        "outputId": "aa6fbc7a-09e1-4049-8ee8-e32e550ceb26"
      },
      "outputs": [
        {
          "output_type": "stream",
          "name": "stdout",
          "text": [
            "0.063\n"
          ]
        }
      ],
      "source": [
        "import csv\n",
        "import numpy as np\n",
        "followers = []\n",
        "public_repos = []\n",
        "with open('users.csv', 'r', encoding='utf-8') as file:\n",
        "    reader = csv.DictReader(file)\n",
        "    for row in reader:\n",
        "        followers_count = int(row['followers'])\n",
        "        public_repos_count = int(row['public_repos'])\n",
        "        followers.append(followers_count)\n",
        "        public_repos.append(public_repos_count)\n",
        "if len(followers) > 1 and len(public_repos) > 1:\n",
        "    slope, intercept = np.polyfit(public_repos, followers, 1)\n",
        "\n",
        "    print(f\"{slope:.3f}\")\n",
        "else:\n",
        "    print(\"Error\")"
      ]
    },
    {
      "cell_type": "markdown",
      "id": "b1739602-5cef-48d6-a3ef-3ecc1d12f405",
      "metadata": {
        "id": "b1739602-5cef-48d6-a3ef-3ecc1d12f405"
      },
      "source": [
        "#### Q11. Do people typically enable projects and wikis together? What is the correlation between a repo having projects enabled and having wiki enabled?"
      ]
    },
    {
      "cell_type": "code",
      "execution_count": 54,
      "id": "e680160d-cfa3-42ef-be27-55a772b77171",
      "metadata": {
        "colab": {
          "base_uri": "https://localhost:8080/"
        },
        "id": "e680160d-cfa3-42ef-be27-55a772b77171",
        "outputId": "35106764-9689-4e1e-f950-75540014fd9f"
      },
      "outputs": [
        {
          "output_type": "stream",
          "name": "stdout",
          "text": [
            "0.262\n"
          ]
        }
      ],
      "source": [
        "correlation = repos['has_projects'].corr(repos['has_wiki'])\n",
        "print(f\"{correlation:.3f}\")"
      ]
    },
    {
      "cell_type": "markdown",
      "id": "7d1c5de4-b714-46e2-af6a-ad41e8a42f8f",
      "metadata": {
        "id": "7d1c5de4-b714-46e2-af6a-ad41e8a42f8f"
      },
      "source": [
        "#### Q12. Do hireable users follow more people than those who are not hireable?"
      ]
    },
    {
      "cell_type": "code",
      "execution_count": 55,
      "id": "cd51bed6-bba7-4407-94a9-ccc5e3968b4d",
      "metadata": {
        "colab": {
          "base_uri": "https://localhost:8080/"
        },
        "id": "cd51bed6-bba7-4407-94a9-ccc5e3968b4d",
        "outputId": "f74923cd-b2a9-4b26-8053-de57eaa56f40"
      },
      "outputs": [
        {
          "output_type": "stream",
          "name": "stdout",
          "text": [
            "52.602\n"
          ]
        }
      ],
      "source": [
        "hireable_avg_following = users[users['hireable'] == True]['following'].mean()\n",
        "non_hireable_avg_following = users[users['hireable'] == False]['following'].mean()\n",
        "difference = hireable_avg_following - non_hireable_avg_following\n",
        "print(f\"{difference:.3f}\")"
      ]
    },
    {
      "cell_type": "markdown",
      "id": "1f30dbcf-90f2-4531-b37c-0386828e1f9f",
      "metadata": {
        "id": "1f30dbcf-90f2-4531-b37c-0386828e1f9f"
      },
      "source": [
        "#### Q13. Some developers write long bios. Does that help them get more followers? What's the correlation of the length of their bio (in Unicode characters) with followers? (Ignore people without bios)"
      ]
    },
    {
      "cell_type": "code",
      "execution_count": 58,
      "id": "a324c8b4-9faf-4f4d-9c3d-0813e6bdbfb8",
      "metadata": {
        "colab": {
          "base_uri": "https://localhost:8080/"
        },
        "id": "a324c8b4-9faf-4f4d-9c3d-0813e6bdbfb8",
        "outputId": "87eaebf8-8328-4ba9-f34d-8c97fa2189fc"
      },
      "outputs": [
        {
          "output_type": "stream",
          "name": "stdout",
          "text": [
            "Regression slope (followers per word in bio): -9.724\n",
            "\n",
            "Sample bios and their word counts:\n"
          ]
        }
      ],
      "source": [
        "import pandas as pd\n",
        "from sklearn.linear_model import LinearRegression\n",
        "import re\n",
        "\n",
        "# Read the data\n",
        "df = pd.read_csv('users.csv')\n",
        "\n",
        "# Convert followers to numeric, coercing errors to NaN\n",
        "#df['followers'] = pd.to_numeric(df['followers'], errors='coerce')\n",
        "\n",
        "# Remove rows with empty bios and NaN followers\n",
        "df = df[df['bio'].notna() & (df['bio'].str.strip() != '') & df['followers'].notna()]\n",
        "df['bio_length'] = df['bio'].apply(lambda x: len(x.split()))\n",
        "\n",
        "# Prepare data for regression\n",
        "X = df['bio_length'].values.reshape(-1, 1)  # Independent variable (bio length)\n",
        "y = df['followers'].values                     # Dependent variable (followers)\n",
        "\n",
        "# Perform linear regression\n",
        "model = LinearRegression()\n",
        "model.fit(X, y)\n",
        "\n",
        "# Get the slope\n",
        "slope = model.coef_[0]  # Take the first coefficient for a single feature\n",
        "\n",
        "# Get the intercept (optional, if needed for interpretation)\n",
        "intercept = model.intercept_\n",
        "\n",
        "correlation = df['bio_length'].corr(df['followers'])\n",
        "\n",
        "\n",
        "# Print results\n",
        "#print(f\"\\nNumber of profiles analyzed: {len(df)}\")\n",
        "print(f\"Regression slope (followers per word in bio): {slope:.3f}\")\n",
        "#print(f\"Regression intercept: {intercept:.4f}\")\n",
        "#print(f\"Correlation coefficient between bio length and followers: {correlation:.3f}\")\n",
        "\n",
        "# Optionally, show some examples from the actual data\n",
        "#print(\"\\nSample bios and their word counts:\")\n",
        "#print(df[['bio', 'bio_length', 'followers']].head(450).to_string())\n"
      ]
    },
    {
      "cell_type": "markdown",
      "id": "96cb22e4-4046-40cf-9be5-06f096b0f0c3",
      "metadata": {
        "id": "96cb22e4-4046-40cf-9be5-06f096b0f0c3"
      },
      "source": [
        "#### Q14. Who created the most repositories on weekends (UTC)? List the top 5 users' login in order, comma-separated"
      ]
    },
    {
      "cell_type": "code",
      "execution_count": 59,
      "id": "ab49dafe-2981-4fe1-b603-0bee0e61e04f",
      "metadata": {
        "colab": {
          "base_uri": "https://localhost:8080/"
        },
        "id": "ab49dafe-2981-4fe1-b603-0bee0e61e04f",
        "outputId": "212ecdd1-31e9-4590-8ed8-c56bb4f2b7dd"
      },
      "outputs": [
        {
          "output_type": "stream",
          "name": "stdout",
          "text": [
            "timgates42,pinkforest,mikeyhodl,ozbillwang,XertroV\n"
          ]
        }
      ],
      "source": [
        "import csv\n",
        "from collections import Counter\n",
        "from datetime import datetime\n",
        "\n",
        "weekend_repo_counts = Counter()\n",
        "\n",
        "with open('repositories.csv', 'r', encoding='utf-8') as file:\n",
        "    reader = csv.DictReader(file)\n",
        "\n",
        "    for row in reader:\n",
        "        created_at = row.get('created_at', '')\n",
        "        if created_at:\n",
        "            created_date = datetime.fromisoformat(created_at[:-1])\n",
        "\n",
        "            if created_date.weekday() in [5, 6]:\n",
        "                user_login = row['login']\n",
        "                weekend_repo_counts[user_login] += 1\n",
        "\n",
        "top_users = weekend_repo_counts.most_common(5)\n",
        "\n",
        "top_logins = [user[0] for user in top_users]\n",
        "\n",
        "print(','.join(top_logins))"
      ]
    },
    {
      "cell_type": "markdown",
      "id": "6d9da60a-2ff0-4421-808e-ab9a74bf02fb",
      "metadata": {
        "id": "6d9da60a-2ff0-4421-808e-ab9a74bf02fb"
      },
      "source": [
        "#### Q15. Do people who are hireable share their email addresses more often?"
      ]
    },
    {
      "cell_type": "code",
      "execution_count": 90,
      "id": "b8381831-d1ed-4855-afc2-97ad1c06a1af",
      "metadata": {
        "colab": {
          "base_uri": "https://localhost:8080/"
        },
        "id": "b8381831-d1ed-4855-afc2-97ad1c06a1af",
        "outputId": "466030b5-5c41-4d5b-a5ed-0a59e6ea7c0f"
      },
      "outputs": [
        {
          "output_type": "stream",
          "name": "stdout",
          "text": [
            "0.046\n"
          ]
        }
      ],
      "source": [
        "# Read the data\n",
        "users = pd.read_csv('users.csv')\n",
        "\n",
        "fraction_hierable = users[users['hireable'] == True]['email'].notna().mean()\n",
        "fraction_non_hierable = users[users['hireable'] == False]['email'].notna().mean()\n",
        "diff = fraction_hierable - fraction_non_hierable\n",
        "print(f\"{diff:.3f}\")"
      ]
    },
    {
      "cell_type": "markdown",
      "id": "806a227e-1285-4c5f-bb05-867a3fd5101a",
      "metadata": {
        "id": "806a227e-1285-4c5f-bb05-867a3fd5101a"
      },
      "source": [
        "#### Q16. Let's assume that the last word in a user's name is their surname (ignore missing names, trim and split by whitespace.) What's the most common surname? (If there's a tie, list them all, comma-separated, alphabetically)"
      ]
    },
    {
      "cell_type": "code",
      "execution_count": 43,
      "id": "01a24dfb-05cc-4528-b118-558b2307639c",
      "metadata": {
        "colab": {
          "base_uri": "https://localhost:8080/"
        },
        "id": "01a24dfb-05cc-4528-b118-558b2307639c",
        "outputId": "8f43b019-64ac-4530-cbd0-bfe3794d8ad9"
      },
      "outputs": [
        {
          "output_type": "stream",
          "name": "stdout",
          "text": [
            "Wu,Zhang\n"
          ]
        }
      ],
      "source": [
        "new_users = users[users['name'].notna()].copy()\n",
        "new_users['surname'] = new_users['name'].str.split().str[-1].str.strip()\n",
        "surname_counts = new_users['surname'].value_counts()\n",
        "max_count = surname_counts.max()\n",
        "common_surnames = surname_counts[surname_counts == max_count].index.tolist()\n",
        "common_surnames.sort()\n",
        "print(','.join(common_surnames))"
      ]
    }
  ],
  "metadata": {
    "kernelspec": {
      "display_name": "Python (eda)",
      "language": "python",
      "name": "eda"
    },
    "language_info": {
      "codemirror_mode": {
        "name": "ipython",
        "version": 3
      },
      "file_extension": ".py",
      "mimetype": "text/x-python",
      "name": "python",
      "nbconvert_exporter": "python",
      "pygments_lexer": "ipython3",
      "version": "3.12.2"
    },
    "colab": {
      "provenance": [],
      "include_colab_link": true
    }
  },
  "nbformat": 4,
  "nbformat_minor": 5
}